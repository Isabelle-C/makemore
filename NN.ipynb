{
 "cells": [
  {
   "cell_type": "code",
   "execution_count": 1,
   "metadata": {},
   "outputs": [],
   "source": [
    "import sys\n",
    "sys.path.append('/Users/isabellechen/git-repos/tutorial/makemore/')"
   ]
  },
  {
   "cell_type": "code",
   "execution_count": 3,
   "metadata": {},
   "outputs": [],
   "source": [
    "import torch"
   ]
  },
  {
   "cell_type": "code",
   "execution_count": 11,
   "metadata": {},
   "outputs": [],
   "source": [
    "import matplotlib.pyplot as plt"
   ]
  },
  {
   "cell_type": "code",
   "execution_count": 4,
   "metadata": {},
   "outputs": [],
   "source": [
    "words=open('names.txt','r').read().split()\n",
    "\n",
    "b={}\n",
    "for w in words:\n",
    "    chs = ['.'] + list(w) + ['.']\n",
    "    for ch1, ch2 in zip(chs, chs[1:]):\n",
    "        bigram = (ch1, ch2)\n",
    "        b[bigram]=b.get(bigram, 0) + 1\n",
    "        #print(ch1,ch2)\n",
    "\n",
    "chars = sorted(set(''.join(words)))\n",
    "char_to_int = {c: i+1 for i, c in enumerate(chars)}\n",
    "int_to_char = {i+1: c for i, c in enumerate(chars)}\n",
    "char_to_int['.']=0\n",
    "int_to_char[0]='.'\n",
    "N = torch.zeros((27,27), dtype=torch.int32)"
   ]
  },
  {
   "cell_type": "code",
   "execution_count": 7,
   "metadata": {},
   "outputs": [],
   "source": [
    "xs, ys = [],[]\n",
    "\n",
    "for w in words[:1]:\n",
    "    chs = ['.'] + list(w) + ['.']\n",
    "    for ch1, ch2 in zip(chs, chs[1:]):\n",
    "        ix1 = char_to_int[ch1]\n",
    "        ix2 = char_to_int[ch2]\n",
    "        xs.append(ix1)\n",
    "        ys.append(ix2)\n",
    "\n",
    "xs = torch.tensor(xs)\n",
    "ys = torch.tensor(ys)\n"
   ]
  },
  {
   "cell_type": "code",
   "execution_count": 8,
   "metadata": {},
   "outputs": [
    {
     "data": {
      "text/plain": [
       "tensor([ 0,  5, 13, 13,  1])"
      ]
     },
     "execution_count": 8,
     "metadata": {},
     "output_type": "execute_result"
    }
   ],
   "source": [
    "xs"
   ]
  },
  {
   "cell_type": "code",
   "execution_count": 9,
   "metadata": {},
   "outputs": [
    {
     "data": {
      "text/plain": [
       "tensor([ 5, 13, 13,  1,  0])"
      ]
     },
     "execution_count": 9,
     "metadata": {},
     "output_type": "execute_result"
    }
   ],
   "source": [
    "ys\n",
    "\n",
    "# For instance, When 5 (i.e. xs[1]) is the input, we want the probability of 13 (i.e. ys[1]) to be high!"
   ]
  },
  {
   "cell_type": "markdown",
   "metadata": {},
   "source": [
    "# One-hot encodings\n",
    "- We want integers, but we cannot put it directly into NN.\n",
    "- NN is made up of neurons, and neurons are made up of weights and biases.\n",
    "- We shouldn't multiply weights (and biases) by integers."
   ]
  },
  {
   "cell_type": "code",
   "execution_count": 10,
   "metadata": {},
   "outputs": [
    {
     "data": {
      "text/plain": [
       "tensor([[1, 0, 0, 0, 0, 0, 0, 0, 0, 0, 0, 0, 0, 0, 0, 0, 0, 0, 0, 0, 0, 0, 0, 0,\n",
       "         0, 0, 0],\n",
       "        [0, 0, 0, 0, 0, 1, 0, 0, 0, 0, 0, 0, 0, 0, 0, 0, 0, 0, 0, 0, 0, 0, 0, 0,\n",
       "         0, 0, 0],\n",
       "        [0, 0, 0, 0, 0, 0, 0, 0, 0, 0, 0, 0, 0, 1, 0, 0, 0, 0, 0, 0, 0, 0, 0, 0,\n",
       "         0, 0, 0],\n",
       "        [0, 0, 0, 0, 0, 0, 0, 0, 0, 0, 0, 0, 0, 1, 0, 0, 0, 0, 0, 0, 0, 0, 0, 0,\n",
       "         0, 0, 0],\n",
       "        [0, 1, 0, 0, 0, 0, 0, 0, 0, 0, 0, 0, 0, 0, 0, 0, 0, 0, 0, 0, 0, 0, 0, 0,\n",
       "         0, 0, 0]])"
      ]
     },
     "execution_count": 10,
     "metadata": {},
     "output_type": "execute_result"
    }
   ],
   "source": [
    "import torch.nn.functional as F\n",
    "xenc = F.one_hot(xs, num_classes=27)\n",
    "xenc"
   ]
  },
  {
   "cell_type": "code",
   "execution_count": 12,
   "metadata": {},
   "outputs": [
    {
     "data": {
      "text/plain": [
       "<matplotlib.image.AxesImage at 0x1276a1210>"
      ]
     },
     "execution_count": 12,
     "metadata": {},
     "output_type": "execute_result"
    },
    {
     "data": {
      "image/png": "[encoded data removed]",
      "text/plain": [
       "<Figure size 640x480 with 1 Axes>"
      ]
     },
     "metadata": {},
     "output_type": "display_data"
    }
   ],
   "source": [
    "plt.imshow(xenc, aspect='auto')"
   ]
  },
  {
   "cell_type": "code",
   "execution_count": 14,
   "metadata": {},
   "outputs": [
    {
     "data": {
      "text/plain": [
       "torch.float32"
      ]
     },
     "execution_count": 14,
     "metadata": {},
     "output_type": "execute_result"
    }
   ],
   "source": [
    "# Cast the list of ints to list of floats\n",
    "xenc = xenc.float()\n",
    "xenc.dtype"
   ]
  },
  {
   "cell_type": "code",
   "execution_count": 27,
   "metadata": {},
   "outputs": [
    {
     "data": {
      "text/plain": [
       "tensor([[ 0.5475],\n",
       "        [-0.1884],\n",
       "        [-0.3580],\n",
       "        [-0.3580],\n",
       "        [ 0.4697]])"
      ]
     },
     "execution_count": 27,
     "metadata": {},
     "output_type": "execute_result"
    }
   ],
   "source": [
    "# RECALL: W dot x + b\n",
    "\n",
    "# Initialize W\n",
    "W = torch.randn((27, 1))\n",
    "xenc @ W # Matrix multiplication function, which produces the log counts\n",
    "\n",
    "# Think about this (5, 27) x (27, 1) = (5, 1): 5 activations for 5 inputs"
   ]
  },
  {
   "cell_type": "code",
   "execution_count": 25,
   "metadata": {},
   "outputs": [
    {
     "data": {
      "text/plain": [
       "tensor([[-1.9134, -0.1550,  0.3498, -0.6385, -1.5682,  1.0636,  1.4040, -1.1097,\n",
       "         -0.3234, -1.1824,  1.4630,  0.6175,  1.1940, -1.7842, -1.7243, -1.0274,\n",
       "         -0.1001,  1.0985, -0.4474, -1.1233, -0.5143, -0.9258, -0.1222, -1.9806,\n",
       "         -0.9147,  1.3818,  0.1169],\n",
       "        [-0.4917, -0.5197,  0.6692, -0.0246,  1.0056,  0.0755,  1.1588, -3.1326,\n",
       "         -0.6301,  0.8637, -1.5456,  1.9804,  1.0016, -0.5666,  0.8197,  0.2507,\n",
       "          0.7124,  0.3802,  0.9057,  1.9518, -1.4652,  0.6457,  0.0866, -0.7712,\n",
       "         -0.4761, -2.0561,  0.4146],\n",
       "        [ 0.8517, -1.3331,  0.5173,  0.9534,  0.6218, -0.6049,  0.4501,  0.2164,\n",
       "          0.4663,  0.5125, -0.6241, -0.6393,  0.6493, -1.2030, -1.7165,  1.1670,\n",
       "          0.3596,  0.4164, -1.5382, -1.7832, -1.7356,  0.1162, -0.8528, -0.4332,\n",
       "          0.3341,  0.3309,  1.1526],\n",
       "        [ 0.8517, -1.3331,  0.5173,  0.9534,  0.6218, -0.6049,  0.4501,  0.2164,\n",
       "          0.4663,  0.5125, -0.6241, -0.6393,  0.6493, -1.2030, -1.7165,  1.1670,\n",
       "          0.3596,  0.4164, -1.5382, -1.7832, -1.7356,  0.1162, -0.8528, -0.4332,\n",
       "          0.3341,  0.3309,  1.1526],\n",
       "        [ 1.1052,  2.3255, -1.1579,  1.5809,  1.1068, -0.1464,  0.1287, -0.7900,\n",
       "         -0.0113,  0.4064, -1.2089,  0.2678, -1.9230, -0.4066, -0.8345, -2.4865,\n",
       "          0.7148,  0.4175,  0.7377,  1.2828,  1.9681, -1.3656,  0.4040,  1.9116,\n",
       "          1.2284,  0.5725, -0.5367]])"
      ]
     },
     "execution_count": 25,
     "metadata": {},
     "output_type": "execute_result"
    }
   ],
   "source": [
    "# Taking this one step further, we can have multiple neurons in the hidden layer\n",
    "\n",
    "W = torch.randn((27, 27)) \n",
    "# the first 27 is the number of input neurons\n",
    "# the second 27 is the number of neuron in the hidden layer\n",
    "logits = xenc @ W\n",
    "\n",
    "logits"
   ]
  },
  {
   "cell_type": "code",
   "execution_count": 28,
   "metadata": {},
   "outputs": [
    {
     "data": {
      "text/plain": [
       "tensor([[0.0043, 0.0251, 0.0417, 0.0155, 0.0061, 0.0851, 0.1195, 0.0097, 0.0212,\n",
       "         0.0090, 0.1268, 0.0544, 0.0969, 0.0049, 0.0052, 0.0105, 0.0266, 0.0881,\n",
       "         0.0188, 0.0095, 0.0176, 0.0116, 0.0260, 0.0041, 0.0118, 0.1169, 0.0330],\n",
       "        [0.0129, 0.0126, 0.0412, 0.0206, 0.0577, 0.0228, 0.0673, 0.0009, 0.0112,\n",
       "         0.0501, 0.0045, 0.1530, 0.0575, 0.0120, 0.0479, 0.0271, 0.0431, 0.0309,\n",
       "         0.0522, 0.1487, 0.0049, 0.0403, 0.0230, 0.0098, 0.0131, 0.0027, 0.0320],\n",
       "        [0.0696, 0.0078, 0.0498, 0.0770, 0.0553, 0.0162, 0.0466, 0.0369, 0.0473,\n",
       "         0.0496, 0.0159, 0.0157, 0.0568, 0.0089, 0.0053, 0.0953, 0.0425, 0.0450,\n",
       "         0.0064, 0.0050, 0.0052, 0.0333, 0.0127, 0.0192, 0.0415, 0.0413, 0.0940],\n",
       "        [0.0696, 0.0078, 0.0498, 0.0770, 0.0553, 0.0162, 0.0466, 0.0369, 0.0473,\n",
       "         0.0496, 0.0159, 0.0157, 0.0568, 0.0089, 0.0053, 0.0953, 0.0425, 0.0450,\n",
       "         0.0064, 0.0050, 0.0052, 0.0333, 0.0127, 0.0192, 0.0415, 0.0413, 0.0940],\n",
       "        [0.0503, 0.1704, 0.0052, 0.0809, 0.0504, 0.0144, 0.0189, 0.0076, 0.0165,\n",
       "         0.0250, 0.0050, 0.0218, 0.0024, 0.0111, 0.0072, 0.0014, 0.0340, 0.0253,\n",
       "         0.0348, 0.0601, 0.1192, 0.0043, 0.0249, 0.1127, 0.0569, 0.0295, 0.0097]])"
      ]
     },
     "execution_count": 28,
     "metadata": {},
     "output_type": "execute_result"
    }
   ],
   "source": [
    "counts = logits.exp() # Exponentiate the log counts to get the counts\n",
    "probs = counts / counts.sum(1, keepdim=True) # Normalize the counts to get the probabilities\n",
    "probs # The probability of the next character given the current character. The calculation is known as the softmax function"
   ]
  },
  {
   "cell_type": "code",
   "execution_count": 29,
   "metadata": {},
   "outputs": [
    {
     "data": {
      "text/plain": [
       "tensor(1.0000)"
      ]
     },
     "execution_count": 29,
     "metadata": {},
     "output_type": "execute_result"
    }
   ],
   "source": [
    "probs[0].sum()"
   ]
  },
  {
   "cell_type": "code",
   "execution_count": 31,
   "metadata": {},
   "outputs": [
    {
     "data": {
      "text/plain": [
       "4"
      ]
     },
     "execution_count": 31,
     "metadata": {},
     "output_type": "execute_result"
    }
   ],
   "source": []
  },
  {
   "cell_type": "code",
   "execution_count": 33,
   "metadata": {},
   "outputs": [
    {
     "name": "stdout",
     "output_type": "stream",
     "text": [
      "Bigram:.e\n",
      "Predicted:tensor([0.0043, 0.0251, 0.0417, 0.0155, 0.0061, 0.0851, 0.1195, 0.0097, 0.0212,\n",
      "        0.0090, 0.1268, 0.0544, 0.0969, 0.0049, 0.0052, 0.0105, 0.0266, 0.0881,\n",
      "        0.0188, 0.0095, 0.0176, 0.0116, 0.0260, 0.0041, 0.0118, 0.1169, 0.0330])\n",
      "Acutal:e\n",
      "Probability assigned by the net to the correct charater:0.08505567163228989\n",
      "Negative log likelihood:2.464449167251587\n",
      "----\n",
      "\n",
      "Bigram:em\n",
      "Predicted:tensor([0.0129, 0.0126, 0.0412, 0.0206, 0.0577, 0.0228, 0.0673, 0.0009, 0.0112,\n",
      "        0.0501, 0.0045, 0.1530, 0.0575, 0.0120, 0.0479, 0.0271, 0.0431, 0.0309,\n",
      "        0.0522, 0.1487, 0.0049, 0.0403, 0.0230, 0.0098, 0.0131, 0.0027, 0.0320])\n",
      "Acutal:m\n",
      "Probability assigned by the net to the correct charater:0.011982955038547516\n",
      "Negative log likelihood:4.424270153045654\n",
      "----\n",
      "\n",
      "Bigram:mm\n",
      "Predicted:tensor([0.0696, 0.0078, 0.0498, 0.0770, 0.0553, 0.0162, 0.0466, 0.0369, 0.0473,\n",
      "        0.0496, 0.0159, 0.0157, 0.0568, 0.0089, 0.0053, 0.0953, 0.0425, 0.0450,\n",
      "        0.0064, 0.0050, 0.0052, 0.0333, 0.0127, 0.0192, 0.0415, 0.0413, 0.0940])\n",
      "Acutal:m\n",
      "Probability assigned by the net to the correct charater:0.008913007564842701\n",
      "Negative log likelihood:4.720243453979492\n",
      "----\n",
      "\n",
      "Bigram:ma\n",
      "Predicted:tensor([0.0696, 0.0078, 0.0498, 0.0770, 0.0553, 0.0162, 0.0466, 0.0369, 0.0473,\n",
      "        0.0496, 0.0159, 0.0157, 0.0568, 0.0089, 0.0053, 0.0953, 0.0425, 0.0450,\n",
      "        0.0064, 0.0050, 0.0052, 0.0333, 0.0127, 0.0192, 0.0415, 0.0413, 0.0940])\n",
      "Acutal:a\n",
      "Probability assigned by the net to the correct charater:0.00782529916614294\n",
      "Negative log likelihood:4.850393295288086\n",
      "----\n",
      "\n",
      "Bigram:a.\n",
      "Predicted:tensor([0.0503, 0.1704, 0.0052, 0.0809, 0.0504, 0.0144, 0.0189, 0.0076, 0.0165,\n",
      "        0.0250, 0.0050, 0.0218, 0.0024, 0.0111, 0.0072, 0.0014, 0.0340, 0.0253,\n",
      "        0.0348, 0.0601, 0.1192, 0.0043, 0.0249, 0.1127, 0.0569, 0.0295, 0.0097])\n",
      "Acutal:.\n",
      "Probability assigned by the net to the correct charater:0.05029982328414917\n",
      "Negative log likelihood:2.9897537231445312\n",
      "----\n",
      "\n"
     ]
    }
   ],
   "source": [
    "# How the model is doing with random W\n",
    "\n",
    "l = len(words[0])+1\n",
    "nlls = torch.zeros(l)\n",
    "\n",
    "for i in range(l):\n",
    "    # i-th bigram\n",
    "    x=xs[i].item()\n",
    "    y=ys[i].item()\n",
    "\n",
    "    # The probability of the next character given the current character\n",
    "    print(f\"Bigram:{int_to_char[x]}{int_to_char[y]}\")\n",
    "    print(f\"Predicted:{probs[i]}\")\n",
    "    print(f\"Acutal:{int_to_char[y]}\")\n",
    "    p = probs[i, y]\n",
    "    print(f\"Probability assigned by the net to the correct charater:{p.item()}\")\n",
    "    nll = -torch.log(p).item()\n",
    "    print(f\"Negative log likelihood:{nll}\")\n",
    "    nlls[i] = nll\n",
    "    print(\"----\\n\")"
   ]
  }
 ],
 "metadata": {
  "kernelspec": {
   "display_name": "makemore-OzY8FFiS-py3.10",
   "language": "python",
   "name": "python3"
  },
  "language_info": {
   "codemirror_mode": {
    "name": "ipython",
    "version": 3
   },
   "file_extension": ".py",
   "mimetype": "text/x-python",
   "name": "python",
   "nbconvert_exporter": "python",
   "pygments_lexer": "ipython3",
   "version": "3.10.0"
  }
 },
 "nbformat": 4,
 "nbformat_minor": 2
}
